{
 "cells": [
  {
   "cell_type": "markdown",
   "id": "de86eda3",
   "metadata": {},
   "source": [
    "## Environment Setup\n",
    "Install required libraries \n"
   ]
  },
  {
   "cell_type": "code",
   "execution_count": null,
   "id": "e3c21cd3",
   "metadata": {
    "vscode": {
     "languageId": "plaintext"
    }
   },
   "outputs": [],
   "source": [
    "# Install essential libraries\n",
    "!pip install --upgrade gradio\n"
   ]
  },
  {
   "cell_type": "markdown",
   "id": "6cf2e0ca",
   "metadata": {},
   "source": [
    "## Interactive UI (Gradio)\n",
    "Launch a web UI for real-time generation and editing.\n",
    "Steps:\n",
    "\n",
    "1. Define UI functions.\n",
    "2. Build Gradio blocks with tabs for T2I, Editing, and Dataset Browser."
   ]
  },
  {
   "cell_type": "code",
   "execution_count": null,
   "id": "90bd1ad6",
   "metadata": {
    "vscode": {
     "languageId": "plaintext"
    }
   },
   "outputs": [],
   "source": [
    "# Interactive UI (Gradio)\n",
    "import gradio as gr\n",
    "\n",
    "_t2i_pipe = {\"pipe\": None}\n",
    "_edit_pipe = {\"pipe\": None}\n",
    "DATASET_IMAGES = discover_images(DATA_DIRS) if 'DATA_DIRS' in globals() else []\n",
    "DATASET_CHOICES = [p.name for p in DATASET_IMAGES]\n",
    "\n",
    "def pick_dataset_image(name):\n",
    "    if not name: return None\n",
    "    p = next((p for p in DATASET_IMAGES if p.name==name), None)\n",
    "    if p is None: return None\n",
    "    return Image.open(p).convert(\"RGB\")\n",
    "\n",
    "def ui_t2i(prompt, steps, guidance, width, height, seed):\n",
    "    if _t2i_pipe[\"pipe\"] is None:\n",
    "        _t2i_pipe[\"pipe\"] = build_txt2img()\n",
    "    img = run_t2i(_t2i_pipe[\"pipe\"], prompt, seed, steps, guidance, width, height)\n",
    "    save_path = Path(OUT_DIR)/\"ui_txt2img\"/f\"t2i_{timestamp()}.png\"\n",
    "    save_path.parent.mkdir(parents=True, exist_ok=True)\n",
    "    img.save(save_path)\n",
    "    return img, str(save_path)\n",
    "\n",
    "def ui_edit(image, instruction, steps, guidance, image_guidance, seed):\n",
    "    if _edit_pipe[\"pipe\"] is None:\n",
    "        _edit_pipe[\"pipe\"] = build_edit()\n",
    "    init = image.convert(\"RGB\")\n",
    "    img = run_edit(_edit_pipe[\"pipe\"], init, instruction, seed, steps, guidance, image_guidance)\n",
    "    save_path = Path(OUT_DIR)/\"ui_edit\"/f\"edit_{timestamp()}.png\"\n",
    "    save_path.parent.mkdir(parents=True, exist_ok=True)\n",
    "    img.save(save_path)\n",
    "    return img, str(save_path)\n",
    "\n",
    "with gr.Blocks(title=\"StepX1Edit - Facade Studio\") as demo:\n",
    "    gr.Markdown(\"## 🧱 StepX1Edit – Facade Studio (Colab)\\nText→Image & Text-Guided Editing\")\n",
    "    with gr.Tab(\"Text → Image\"):\n",
    "        prompt = gr.Textbox(label=\"Prompt\", placeholder=\"e.g., modern minimalist glass facade with LED signage\")\n",
    "        with gr.Row():\n",
    "            steps = gr.Slider(4, 40, value=20, step=1, label=\"Steps\")\n",
    "            guidance = gr.Slider(0.5, 7.5, value=2.0, step=0.1, label=\"Guidance\")\n",
    "            width = gr.Slider(512, 1536, value=1024, step=64, label=\"Width\")\n",
    "            height = gr.Slider(512, 1536, value=1024, step=64, label=\"Height\")\n",
    "            seed = gr.Number(value=-1, label=\"Seed (-1=random)\")\n",
    "        btn = gr.Button(\"Generate\")\n",
    "        out_img = gr.Image(label=\"Result\", interactive=False)\n",
    "        out_path = gr.Textbox(label=\"Saved to\", interactive=False)\n",
    "        btn.click(ui_t2i, [prompt, steps, guidance, width, height, seed], [out_img, out_path])\n",
    "\n",
    "    with gr.Tab(\"Edit Existing Image\"):\n",
    "        image = gr.Image(type=\"pil\", label=\"Upload or pick from dataset tab\")\n",
    "        instruction = gr.Textbox(label=\"Instruction\", placeholder=\"e.g., Convert to Islamic mashrabiya style with geometric patterns\")\n",
    "        with gr.Row():\n",
    "            e_steps = gr.Slider(4, 40, value=20, step=1, label=\"Steps\")\n",
    "            e_guid = gr.Slider(0.5, 10.0, value=1.8, step=0.1, label=\"Guidance\")\n",
    "            e_img_guid = gr.Slider(0.5, 5.0, value=1.5, step=0.1, label=\"Image Guidance\")\n",
    "            e_seed = gr.Number(value=-1, label=\"Seed (-1=random)\")\n",
    "        e_btn = gr.Button(\"Edit\")\n",
    "        e_img = gr.Image(label=\"Edited\", interactive=False)\n",
    "        e_path = gr.Textbox(label=\"Saved to\", interactive=False)\n",
    "        e_btn.click(ui_edit, [image, instruction, e_steps, e_guid, e_img_guid, e_seed], [e_img, e_path])\n",
    "\n",
    "    with gr.Tab(\"Dataset Browser\"):\n",
    "        ds_dd = gr.Dropdown(choices=DATASET_CHOICES, label=\"Dataset images (from DATA_DIRS)\")\n",
    "        ds_btn = gr.Button(\"Load to preview\")\n",
    "        ds_img = gr.Image(label=\"Preview\", interactive=False)\n",
    "        ds_btn.click(pick_dataset_image, ds_dd, ds_img)\n",
    "\n",
    "demo.queue().launch(share=True)\n"
   ]
  },
  {
   "cell_type": "markdown",
   "id": "b1de0f12",
   "metadata": {},
   "source": [
    "## Batch Processing\n",
    "Automated processing of entire datasets with metadata tracking.\n",
    "\n",
    "Steps:\n",
    "\n",
    "1. Save with metadata.\n",
    "2. Run batch edit or T2I."
   ]
  },
  {
   "cell_type": "code",
   "execution_count": null,
   "id": "42992e3b",
   "metadata": {
    "vscode": {
     "languageId": "plaintext"
    }
   },
   "outputs": [],
   "source": [
    "# Batch Processing\n",
    "def save_with_meta(img, out_path: Path, meta: dict):\n",
    "    out_path.parent.mkdir(parents=True, exist_ok=True)\n",
    "    img.save(out_path)\n",
    "    with open(out_path.with_suffix(\".json\"), \"w\", encoding=\"utf-8\") as f:\n",
    "        json.dump(meta, f, ensure_ascii=False, indent=2)\n",
    "\n",
    "def batch_edit(prompts_file: str, data_dirs: List[str], out_dir: str,\n",
    "               steps=20, guidance=1.8, image_guidance=1.5):\n",
    "    df = load_prompts_table(prompts_file).fillna(\"\")\n",
    "    images = discover_images(data_dirs)\n",
    "    lookup = {p.name: p for p in images}\n",
    "    pipe = build_edit()\n",
    "    out_root = Path(out_dir)/f\"edit_{timestamp()}\"\n",
    "    for i, row in df.iterrows():\n",
    "        img_name = str(row.get(\"image\",\"\")).strip()\n",
    "        instr = str(row.get(\"prompt\",\"\")).strip()\n",
    "        if not img_name or not instr: continue\n",
    "        src = lookup.get(Path(img_name).name, None)\n",
    "        if src is None and Path(img_name).exists():\n",
    "            src = Path(img_name)\n",
    "        if src is None:\n",
    "            print(f\"[WARN] Not found: {img_name}\"); continue\n",
    "        init = Image.open(src).convert(\"RGB\")\n",
    "        img = run_edit(pipe, init, instr, seed=-1, steps=steps, guidance=guidance, image_guidance=image_guidance)\n",
    "        out_path = out_root / f\"{src.stem}_edited.png\"\n",
    "        meta = {\"mode\":\"edit\",\"instruction\":instr,\"src\":str(src),\n",
    "                \"steps\":steps,\"guidance\":guidance,\"image_guidance\":image_guidance,\"model\":EDIT_MODEL}\n",
    "        save_with_meta(img, out_path, meta)\n",
    "    print(f\"✅ Done → {out_root}\")\n",
    "\n",
    "def batch_t2i(prompts_file: str, out_dir: str, steps=20, guidance=2.0, width=1024, height=1024):\n",
    "    df = load_prompts_table(prompts_file).fillna(\"\")\n",
    "    pipe = build_txt2img()\n",
    "    out_root = Path(out_dir)/f\"t2i_{timestamp()}\"\n",
    "    for i, row in df.iterrows():\n",
    "        prompt = str(row.get(\"prompt\",\"\")).strip()\n",
    "        if not prompt: continue\n",
    "        img = run_t2i(pipe, prompt, seed=-1, steps=steps, guidance=guidance, width=width, height=height)\n",
    "        out_path = out_root / f\"t2i_{i:04d}.png\"\n",
    "        meta = {\"mode\":\"txt2img\",\"prompt\":prompt,\"steps\":steps,\"guidance\":guidance,\"model\":TXT2IMG_MODEL,\"size\":[width,height]}\n",
    "        save_with_meta(img, out_path, meta)\n",
    "    print(f\"✅ Done → {out_root}\")\n"
   ]
  },
  {
   "cell_type": "code",
   "execution_count": null,
   "id": "3d05f97c",
   "metadata": {
    "vscode": {
     "languageId": "plaintext"
    }
   },
   "outputs": [],
   "source": []
  }
 ],
 "metadata": {
  "language_info": {
   "name": "python"
  }
 },
 "nbformat": 4,
 "nbformat_minor": 5
}
